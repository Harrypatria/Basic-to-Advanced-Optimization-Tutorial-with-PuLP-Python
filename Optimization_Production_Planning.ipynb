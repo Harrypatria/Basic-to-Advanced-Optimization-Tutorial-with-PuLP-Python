{
  "nbformat": 4,
  "nbformat_minor": 0,
  "metadata": {
    "colab": {
      "provenance": []
    },
    "kernelspec": {
      "name": "python3",
      "display_name": "Python 3"
    },
    "language_info": {
      "name": "python"
    }
  },
  "cells": [
    {
      "cell_type": "code",
      "source": [
        "!pip install pulp"
      ],
      "metadata": {
        "colab": {
          "base_uri": "https://localhost:8080/"
        },
        "id": "HjqEpZ9iaKvl",
        "outputId": "db96fedc-95b2-4bb4-f86f-90b533b43609"
      },
      "execution_count": 2,
      "outputs": [
        {
          "output_type": "stream",
          "name": "stdout",
          "text": [
            "Collecting pulp\n",
            "  Downloading pulp-3.1.1-py3-none-any.whl.metadata (1.3 kB)\n",
            "Downloading pulp-3.1.1-py3-none-any.whl (16.4 MB)\n",
            "\u001b[2K   \u001b[90m━━━━━━━━━━━━━━━━━━━━━━━━━━━━━━━━━━━━━━━━\u001b[0m \u001b[32m16.4/16.4 MB\u001b[0m \u001b[31m33.5 MB/s\u001b[0m eta \u001b[36m0:00:00\u001b[0m\n",
            "\u001b[?25hInstalling collected packages: pulp\n",
            "Successfully installed pulp-3.1.1\n"
          ]
        }
      ]
    },
    {
      "cell_type": "code",
      "execution_count": 3,
      "metadata": {
        "id": "sYR_MPYzZ6mh"
      },
      "outputs": [],
      "source": [
        "import pulp as pl\n",
        "\n",
        "# Create a linear programming problem\n",
        "model = pl.LpProblem(\"Production_Planning\", pl.LpMaximize)\n",
        "\n",
        "# Products\n",
        "products = [\"Product_A\", \"Product_B\", \"Product_C\"]\n",
        "profit = {\"Product_A\": 10, \"Product_B\": 12, \"Product_C\": 14}  # profit per unit\n",
        "demand = {\"Product_A\": 100, \"Product_B\": 80, \"Product_C\": 50}  # max demand\n",
        "\n",
        "# Resources\n",
        "resources = [\"Labor\", \"Material_X\", \"Material_Y\"]\n",
        "available = {\"Labor\": 480, \"Material_X\": 320, \"Material_Y\": 250}  # available hours/units\n",
        "\n",
        "# Resource usage per unit of product\n",
        "usage = {\n",
        "    (\"Product_A\", \"Labor\"): 5,\n",
        "    (\"Product_B\", \"Labor\"): 4,\n",
        "    (\"Product_C\", \"Labor\"): 6,\n",
        "    (\"Product_A\", \"Material_X\"): 3,\n",
        "    (\"Product_B\", \"Material_X\"): 5,\n",
        "    (\"Product_C\", \"Material_X\"): 2,\n",
        "    (\"Product_A\", \"Material_Y\"): 2,\n",
        "    (\"Product_B\", \"Material_Y\"): 1,\n",
        "    (\"Product_C\", \"Material_Y\"): 4\n",
        "}"
      ]
    },
    {
      "cell_type": "code",
      "source": [
        "# Decision variables - how many of each product to make\n",
        "production = {p: pl.LpVariable(f\"Produce_{p}\", lowBound=0, cat='Integer') for p in products}\n",
        "\n",
        "# Objective function: maximize profit\n",
        "model += pl.lpSum([profit[p] * production[p] for p in products]), \"Total_Profit\"\n",
        "\n",
        "# Resource constraints\n",
        "for r in resources:\n",
        "    model += pl.lpSum([usage[(p, r)] * production[p] for p in products]) <= available[r], f\"Total_{r}\"\n",
        "\n",
        "# Demand constraints\n",
        "for p in products:\n",
        "    model += production[p] <= demand[p], f\"Demand_{p}\"\n",
        "\n",
        "# Solve the model\n",
        "model.solve()"
      ],
      "metadata": {
        "colab": {
          "base_uri": "https://localhost:8080/"
        },
        "id": "uBn-RTKkaCS2",
        "outputId": "9637ca31-9e5d-4e51-c82b-fd9ca0e6ccbd"
      },
      "execution_count": 4,
      "outputs": [
        {
          "output_type": "execute_result",
          "data": {
            "text/plain": [
              "1"
            ]
          },
          "metadata": {},
          "execution_count": 4
        }
      ]
    },
    {
      "cell_type": "code",
      "source": [
        "\n",
        "# Print the results\n",
        "print(f\"Status: {pl.LpStatus[model.status]}\")\n",
        "print(\"\\nOptimal Production Plan:\")\n",
        "for p in products:\n",
        "    print(f\"{p}: {production[p].value()} units\")\n",
        "\n",
        "print(f\"\\nTotal Profit: ${pl.value(model.objective)}\")\n",
        "\n",
        "# Resource usage\n",
        "print(\"\\nResource Usage:\")\n",
        "for r in resources:\n",
        "    total_used = sum(usage[(p, r)] * production[p].value() for p in products)\n",
        "    print(f\"{r}: {total_used} / {available[r]} ({total_used/available[r]*100:.1f}%)\")"
      ],
      "metadata": {
        "colab": {
          "base_uri": "https://localhost:8080/"
        },
        "id": "r457dGUnZ-lN",
        "outputId": "2efa1c65-dbc9-4ac9-e64a-772a2963b10e"
      },
      "execution_count": 5,
      "outputs": [
        {
          "output_type": "stream",
          "name": "stdout",
          "text": [
            "Status: Optimal\n",
            "\n",
            "Optimal Production Plan:\n",
            "Product_A: 0.0 units\n",
            "Product_B: 44.0 units\n",
            "Product_C: 50.0 units\n",
            "\n",
            "Total Profit: $1228.0\n",
            "\n",
            "Resource Usage:\n",
            "Labor: 476.0 / 480 (99.2%)\n",
            "Material_X: 320.0 / 320 (100.0%)\n",
            "Material_Y: 244.0 / 250 (97.6%)\n"
          ]
        }
      ]
    }
  ]
}